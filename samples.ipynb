{
 "cells": [
  {
   "cell_type": "code",
   "execution_count": 1,
   "metadata": {},
   "outputs": [],
   "source": [
    "from materials_propellant import *\n",
    "import numpy"
   ]
  },
  {
   "cell_type": "code",
   "execution_count": 2,
   "metadata": {},
   "outputs": [
    {
     "ename": "NameError",
     "evalue": "name 'get_material_names' is not defined",
     "output_type": "error",
     "traceback": [
      "\u001b[1;31m---------------------------------------------------------------------------\u001b[0m",
      "\u001b[1;31mNameError\u001b[0m                                 Traceback (most recent call last)",
      "\u001b[1;32md:\\Library\\Documents\\ALearning\\ПЭУРО\\peuro_lab1\\samples.ipynb Ячейка 2\u001b[0m in \u001b[0;36m<cell line: 1>\u001b[1;34m()\u001b[0m\n\u001b[1;32m----> <a href='vscode-notebook-cell:/d%3A/Library/Documents/ALearning/%D0%9F%D0%AD%D0%A3%D0%A0%D0%9E/peuro_lab1/samples.ipynb#W1sZmlsZQ%3D%3D?line=0'>1</a>\u001b[0m get_material_names()\n",
      "\u001b[1;31mNameError\u001b[0m: name 'get_material_names' is not defined"
     ]
    }
   ],
   "source": [
    "get_material_names()"
   ]
  },
  {
   "cell_type": "code",
   "execution_count": 3,
   "metadata": {},
   "outputs": [
    {
     "data": {
      "text/plain": [
       "{'material': 'Титановый сплав ВТ23',\n",
       " 'rho': 4570.0,\n",
       " 'sigma_02': 1050000000.0,\n",
       " 'sigma_v': 1050000000.0,\n",
       " 'delta': 0.04,\n",
       " 'sigma_v_rho': 22080.0,\n",
       " 'use': 'Обечайки, фланцы, шпангоуты'}"
      ]
     },
     "execution_count": 3,
     "metadata": {},
     "output_type": "execute_result"
    }
   ],
   "source": [
    "get_material('Титановый сплав ВТ23')"
   ]
  },
  {
   "cell_type": "code",
   "execution_count": 4,
   "metadata": {},
   "outputs": [
    {
     "data": {
      "text/plain": [
       "['Стеклопластик на основе волокна ВМ-1 и эпоксидного связующего',\n",
       " 'Органоэпоксикомпозит',\n",
       " 'Углепластик на основе жгута ВМН-4 и эпокситрифенольного связующего',\n",
       " 'Углепластик на основе волокна Торнелл-300 и эпоксидного связующего РР 313']"
      ]
     },
     "execution_count": 4,
     "metadata": {},
     "output_type": "execute_result"
    }
   ],
   "source": [
    "get_composite_names()"
   ]
  },
  {
   "cell_type": "code",
   "execution_count": 5,
   "metadata": {},
   "outputs": [
    {
     "data": {
      "text/plain": [
       "{'material': 'Органоэпоксикомпозит',\n",
       " 'rho': 1340.0,\n",
       " 'sigma_r': 1400000000.0,\n",
       " 'E': 78000000000.0}"
      ]
     },
     "execution_count": 5,
     "metadata": {},
     "output_type": "execute_result"
    }
   ],
   "source": [
    "get_composite('Органоэпоксикомпозит')"
   ]
  },
  {
   "cell_type": "code",
   "execution_count": 6,
   "metadata": {},
   "outputs": [
    {
     "data": {
      "text/plain": [
       "['ВТ3-1', 'ВТ-23', '7049', 'АМг6']"
      ]
     },
     "execution_count": 6,
     "metadata": {},
     "output_type": "execute_result"
    }
   ],
   "source": [
    "get_fln_shpn_mater_names()"
   ]
  },
  {
   "cell_type": "code",
   "execution_count": 7,
   "metadata": {},
   "outputs": [
    {
     "data": {
      "text/plain": [
       "{'material': 'АМг6',\n",
       " 'rho': 2640.0,\n",
       " 'sigma_v': 29000000.0,\n",
       " 'sigma_v_rho': 11000.0,\n",
       " 'use': 'Стыковочные шпангоуты'}"
      ]
     },
     "execution_count": 7,
     "metadata": {},
     "output_type": "execute_result"
    }
   ],
   "source": [
    "get_fln_shpn_mater('АМг6')"
   ]
  },
  {
   "cell_type": "code",
   "execution_count": 8,
   "metadata": {},
   "outputs": [
    {
     "data": {
      "text/plain": [
       "['NBP (США)', 'SBP (США)', 'ЕРДМ (США)', 'Р-864, Р-998, РД-18 (СССР)']"
      ]
     },
     "execution_count": 8,
     "metadata": {},
     "output_type": "execute_result"
    }
   ],
   "source": [
    "get_tzp_names()"
   ]
  },
  {
   "cell_type": "code",
   "execution_count": 9,
   "metadata": {},
   "outputs": [
    {
     "data": {
      "text/plain": [
       "{'material': 'NBP (США)',\n",
       " 'rho': 1250.0,\n",
       " 'delta_razr': 5.25,\n",
       " 'sigma_razr': 14000000.0,\n",
       " 'lambda_t': 0.24,\n",
       " 'c_p': 1720.0}"
      ]
     },
     "execution_count": 9,
     "metadata": {},
     "output_type": "execute_result"
    }
   ],
   "source": [
    "get_tzp('NBP (США)')"
   ]
  },
  {
   "cell_type": "code",
   "execution_count": 10,
   "metadata": {},
   "outputs": [
    {
     "data": {
      "text/plain": [
       "['27% ПБГГ, 73% ПХА',\n",
       " '25% ПБАК, 75% ПХА',\n",
       " '20% ПБГГ, 80% RDX',\n",
       " '20% ПБГГ, 40% ПХА, 40% RDX',\n",
       " '20% ПБКГ, 64% ПХА, 16% ПХК',\n",
       " '20% ПБГГ, 80% ПХА',\n",
       " '16% ПБГГ, 84% ПХА',\n",
       " '13% ПБГГ, 87% ПХА',\n",
       " '20% ПУ, 70% ПХА, 9,5% Al, 0,5% MnO2',\n",
       " '12% ПБГГ, 88% ПХА',\n",
       " '17% ПБКГ, 67% ПХА, 16% Al',\n",
       " '14% ПБАН, 69,6% ПХА, 16% Al, 0,4% Fe2O3',\n",
       " '14% ПБАН, 70% ПХА, 16% Al',\n",
       " '13,7% ПБГГ, 71% ПХА, 15% Al, 0,3% Fe2O3',\n",
       " '11% ПБГГ, 69,5% ПХА, 19% Al, 0,5% Fe2O3',\n",
       " '14% ПБКГ, 66% ПХА, 20% Al',\n",
       " '14% ПБГГ, 67,7% ПХА, 18% Al, 0,3% Fe2O3',\n",
       " '13,5% ПБГГ, 69% ПХА, 17,5% Al',\n",
       " '14% ПБГГ, 68% ПХА, 18% Al',\n",
       " '12% ПБГГ, 62% ПХА, 18% Al, 8% HMX']"
      ]
     },
     "execution_count": 10,
     "metadata": {},
     "output_type": "execute_result"
    }
   ],
   "source": [
    "get_mixed_propellant_names()"
   ]
  },
  {
   "cell_type": "code",
   "execution_count": 11,
   "metadata": {},
   "outputs": [
    {
     "data": {
      "text/plain": [
       "{'Number': '1',\n",
       " 'I_ud': 2140.24,\n",
       " 'rho_т': 1497.0,\n",
       " 'R_г': 433.396,\n",
       " 'k': 1.29548,\n",
       " 'T_0': 1670.85,\n",
       " 'nu': 0.35,\n",
       " 'u_1': 0.0022,\n",
       " 'D_t': 0.0025,\n",
       " 'p_min': 500000.0}"
      ]
     },
     "execution_count": 11,
     "metadata": {},
     "output_type": "execute_result"
    }
   ],
   "source": [
    "get_mixed_propellant('27% ПБГГ, 73% ПХА')"
   ]
  },
  {
   "cell_type": "code",
   "execution_count": 12,
   "metadata": {},
   "outputs": [
    {
     "data": {
      "text/plain": [
       "['1', '2', '3', '4', '5', '6', '7', '8', '9']"
      ]
     },
     "execution_count": 12,
     "metadata": {},
     "output_type": "execute_result"
    }
   ],
   "source": [
    "get_ball_propellant_names()"
   ]
  },
  {
   "cell_type": "code",
   "execution_count": 13,
   "metadata": {},
   "outputs": [
    {
     "data": {
      "text/plain": [
       "{'Number': '1',\n",
       " 'I_ud': '2200',\n",
       " 'rho_т': 1600.0,\n",
       " 'R_г': 326.8,\n",
       " 'k': 1.26,\n",
       " 'T_0': 2305.0,\n",
       " 'nu': 0.596,\n",
       " 'u_1': 0.001,\n",
       " 'B_т': 320.0,\n",
       " 'Q': 3.65,\n",
       " 'p_min': 7000000.0}"
      ]
     },
     "execution_count": 13,
     "metadata": {},
     "output_type": "execute_result"
    }
   ],
   "source": [
    "get_ball_propellant('1')"
   ]
  }
 ],
 "metadata": {
  "kernelspec": {
   "display_name": "Python 3.9.13 64-bit",
   "language": "python",
   "name": "python3"
  },
  "language_info": {
   "codemirror_mode": {
    "name": "ipython",
    "version": 3
   },
   "file_extension": ".py",
   "mimetype": "text/x-python",
   "name": "python",
   "nbconvert_exporter": "python",
   "pygments_lexer": "ipython3",
   "version": "3.9.13"
  },
  "vscode": {
   "interpreter": {
    "hash": "f5ff168696553f3e2cb115c273c46eeb315c32b0d0536992c4bad2740a7f9469"
   }
  }
 },
 "nbformat": 4,
 "nbformat_minor": 2
}
