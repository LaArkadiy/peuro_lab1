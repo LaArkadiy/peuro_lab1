{
 "cells": [
  {
   "cell_type": "code",
   "execution_count": 1,
   "metadata": {},
   "outputs": [],
   "source": [
    "from materials import *"
   ]
  },
  {
   "cell_type": "code",
   "execution_count": 2,
   "metadata": {},
   "outputs": [
    {
     "data": {
      "text/plain": [
       "['Сталь 03Х11Н10М2Т-ВД (ЭП 678У-ВД)',\n",
       " 'Сталь 03Х11Н10М2Т2-ВД (ЭП 679-ВД)',\n",
       " 'Сталь 28Х3СНМВФА-Ш (СП-28Ш)',\n",
       " 'Сталь 33Х3СНМВФА-Ш (СП-33Ш)',\n",
       " 'Сталь 38Х3СНМВФА-Ш (СП-38Ш)',\n",
       " 'Сталь 43Х3СНМВФА-Ш (СП-43Ш)',\n",
       " 'Сталь 30Х3ГСНМВФА-Ш (СП-30Ш)',\n",
       " 'Сталь Д6АС (США)',\n",
       " 'Титановый сплав ВТ23',\n",
       " 'Титановый сплав ВТ16',\n",
       " 'Титановый сплав ВТ14',\n",
       " 'Титановый сплав ОТ4',\n",
       " 'Титановый сплав ВТ5Л',\n",
       " 'Титановый сплав ВТ20Л',\n",
       " 'Титановый  сплав  Ti-6Al- 4V (США)',\n",
       " 'Титановый сплав Ti-13V- 11Cr-3Al (США)',\n",
       " 'Алюминиевый сплав АМг6М',\n",
       " 'Алюминиевый сплав В95']"
      ]
     },
     "execution_count": 2,
     "metadata": {},
     "output_type": "execute_result"
    }
   ],
   "source": [
    "get_material_names()"
   ]
  },
  {
   "cell_type": "code",
   "execution_count": 3,
   "metadata": {},
   "outputs": [
    {
     "data": {
      "text/plain": [
       "{'material': 'Титановый сплав ВТ23',\n",
       " 'rho': 4570.0,\n",
       " 'sigma_02': 1050.0,\n",
       " 'sigma_v': 1050.0,\n",
       " 'delta': 4.0,\n",
       " 'sigma_v_rho': 22.08,\n",
       " 'use': 'Обечайки, фланцы, шпангоуты'}"
      ]
     },
     "execution_count": 3,
     "metadata": {},
     "output_type": "execute_result"
    }
   ],
   "source": [
    "get_material('Титановый сплав ВТ23')"
   ]
  },
  {
   "cell_type": "code",
   "execution_count": 4,
   "metadata": {},
   "outputs": [
    {
     "data": {
      "text/plain": [
       "['Стеклопластик на основе волокна ВМ-1 и эпоксидного связующего',\n",
       " 'Органоэпоксикомпозит',\n",
       " 'Углепластик на основе жгута ВМН-4 и эпокситрифенольного связующего',\n",
       " 'Углепластик на основе волокна Торнелл-300 и эпоксидного связующего РР 313']"
      ]
     },
     "execution_count": 4,
     "metadata": {},
     "output_type": "execute_result"
    }
   ],
   "source": [
    "get_composite_names()"
   ]
  },
  {
   "cell_type": "code",
   "execution_count": 5,
   "metadata": {},
   "outputs": [
    {
     "data": {
      "text/plain": [
       "{'material': 'Органоэпоксикомпозит',\n",
       " 'rho': 1300.0,\n",
       " 'sigma_r': 1400.0,\n",
       " 'E': 78.0}"
      ]
     },
     "execution_count": 5,
     "metadata": {},
     "output_type": "execute_result"
    }
   ],
   "source": [
    "get_composite('Органоэпоксикомпозит')"
   ]
  },
  {
   "cell_type": "code",
   "execution_count": 6,
   "metadata": {},
   "outputs": [
    {
     "data": {
      "text/plain": [
       "['ВТ3-1', 'ВТ-23', '7049', 'АМг6']"
      ]
     },
     "execution_count": 6,
     "metadata": {},
     "output_type": "execute_result"
    }
   ],
   "source": [
    "get_fln_shpn_mater_names()"
   ]
  },
  {
   "cell_type": "code",
   "execution_count": 7,
   "metadata": {},
   "outputs": [
    {
     "data": {
      "text/plain": [
       "{'material': 'АМг6',\n",
       " 'rho': 2640.0,\n",
       " 'sigma_v': 29.0,\n",
       " 'sigma_v_rho': 11.0,\n",
       " 'use': 'Стыковочные шпангоуты'}"
      ]
     },
     "execution_count": 7,
     "metadata": {},
     "output_type": "execute_result"
    }
   ],
   "source": [
    "get_fln_shpn_mater('АМг6')"
   ]
  },
  {
   "cell_type": "code",
   "execution_count": 8,
   "metadata": {},
   "outputs": [
    {
     "data": {
      "text/plain": [
       "['NBP (США)', 'SBP (США)', 'ЕРДМ (США)', 'Р-864, Р-998, РД-18 (СССР)']"
      ]
     },
     "execution_count": 8,
     "metadata": {},
     "output_type": "execute_result"
    }
   ],
   "source": [
    "get_tzp_names()"
   ]
  },
  {
   "cell_type": "code",
   "execution_count": 9,
   "metadata": {},
   "outputs": [
    {
     "data": {
      "text/plain": [
       "{'material': 'NBP (США)',\n",
       " 'rho': 1220.0,\n",
       " 'delta_razr': 450.0,\n",
       " 'sigma_razr': 14.0,\n",
       " 'lambda_t': 0.24,\n",
       " 'c_p': 1720.0}"
      ]
     },
     "execution_count": 9,
     "metadata": {},
     "output_type": "execute_result"
    }
   ],
   "source": [
    "get_tzp('NBP (США)')"
   ]
  }
 ],
 "metadata": {
  "interpreter": {
   "hash": "13fdf25ef2beee923e1f1011635d38d6ce68fb2882c6a64f76de1420ab9cc9f4"
  },
  "kernelspec": {
   "display_name": "Python 3.9.7 64-bit",
   "language": "python",
   "name": "python3"
  },
  "language_info": {
   "codemirror_mode": {
    "name": "ipython",
    "version": 3
   },
   "file_extension": ".py",
   "mimetype": "text/x-python",
   "name": "python",
   "nbconvert_exporter": "python",
   "pygments_lexer": "ipython3",
   "version": "3.9.7"
  },
  "orig_nbformat": 4
 },
 "nbformat": 4,
 "nbformat_minor": 2
}
